{
 "cells": [
  {
   "cell_type": "code",
   "execution_count": 17,
   "id": "df298031",
   "metadata": {},
   "outputs": [],
   "source": [
    "import pandas as pd\n",
    "import numpy as np\n",
    "import seaborn as sns\n",
    "import math"
   ]
  },
  {
   "cell_type": "code",
   "execution_count": 3,
   "id": "fa8daeb1",
   "metadata": {
    "scrolled": true
   },
   "outputs": [
    {
     "data": {
      "text/html": [
       "<div>\n",
       "<style scoped>\n",
       "    .dataframe tbody tr th:only-of-type {\n",
       "        vertical-align: middle;\n",
       "    }\n",
       "\n",
       "    .dataframe tbody tr th {\n",
       "        vertical-align: top;\n",
       "    }\n",
       "\n",
       "    .dataframe thead th {\n",
       "        text-align: right;\n",
       "    }\n",
       "</style>\n",
       "<table border=\"1\" class=\"dataframe\">\n",
       "  <thead>\n",
       "    <tr style=\"text-align: right;\">\n",
       "      <th></th>\n",
       "      <th>ride_id</th>\n",
       "      <th>rideable_type</th>\n",
       "      <th>started_at</th>\n",
       "      <th>ended_at</th>\n",
       "      <th>start_station_name</th>\n",
       "      <th>start_station_id</th>\n",
       "      <th>end_station_name</th>\n",
       "      <th>end_station_id</th>\n",
       "      <th>start_lat</th>\n",
       "      <th>start_lng</th>\n",
       "      <th>end_lat</th>\n",
       "      <th>end_lng</th>\n",
       "      <th>member_casual</th>\n",
       "    </tr>\n",
       "  </thead>\n",
       "  <tbody>\n",
       "    <tr>\n",
       "      <th>0</th>\n",
       "      <td>8FE8F7D9C10E88C7</td>\n",
       "      <td>electric_bike</td>\n",
       "      <td>2023-04-02 08:37:28</td>\n",
       "      <td>2023-04-02 08:41:37</td>\n",
       "      <td>NaN</td>\n",
       "      <td>NaN</td>\n",
       "      <td>NaN</td>\n",
       "      <td>NaN</td>\n",
       "      <td>41.80</td>\n",
       "      <td>-87.60</td>\n",
       "      <td>41.79</td>\n",
       "      <td>-87.60</td>\n",
       "      <td>member</td>\n",
       "    </tr>\n",
       "    <tr>\n",
       "      <th>1</th>\n",
       "      <td>34E4ED3ADF1D821B</td>\n",
       "      <td>electric_bike</td>\n",
       "      <td>2023-04-19 11:29:02</td>\n",
       "      <td>2023-04-19 11:52:12</td>\n",
       "      <td>NaN</td>\n",
       "      <td>NaN</td>\n",
       "      <td>NaN</td>\n",
       "      <td>NaN</td>\n",
       "      <td>41.87</td>\n",
       "      <td>-87.65</td>\n",
       "      <td>41.93</td>\n",
       "      <td>-87.68</td>\n",
       "      <td>member</td>\n",
       "    </tr>\n",
       "    <tr>\n",
       "      <th>2</th>\n",
       "      <td>5296BF07A2F77CB5</td>\n",
       "      <td>electric_bike</td>\n",
       "      <td>2023-04-19 08:41:22</td>\n",
       "      <td>2023-04-19 08:43:22</td>\n",
       "      <td>NaN</td>\n",
       "      <td>NaN</td>\n",
       "      <td>NaN</td>\n",
       "      <td>NaN</td>\n",
       "      <td>41.93</td>\n",
       "      <td>-87.66</td>\n",
       "      <td>41.93</td>\n",
       "      <td>-87.66</td>\n",
       "      <td>member</td>\n",
       "    </tr>\n",
       "    <tr>\n",
       "      <th>3</th>\n",
       "      <td>40759916B76D5D52</td>\n",
       "      <td>electric_bike</td>\n",
       "      <td>2023-04-19 13:31:30</td>\n",
       "      <td>2023-04-19 13:35:09</td>\n",
       "      <td>NaN</td>\n",
       "      <td>NaN</td>\n",
       "      <td>NaN</td>\n",
       "      <td>NaN</td>\n",
       "      <td>41.92</td>\n",
       "      <td>-87.65</td>\n",
       "      <td>41.91</td>\n",
       "      <td>-87.65</td>\n",
       "      <td>member</td>\n",
       "    </tr>\n",
       "    <tr>\n",
       "      <th>4</th>\n",
       "      <td>77A96F460101AC63</td>\n",
       "      <td>electric_bike</td>\n",
       "      <td>2023-04-19 12:05:36</td>\n",
       "      <td>2023-04-19 12:10:26</td>\n",
       "      <td>NaN</td>\n",
       "      <td>NaN</td>\n",
       "      <td>NaN</td>\n",
       "      <td>NaN</td>\n",
       "      <td>41.91</td>\n",
       "      <td>-87.65</td>\n",
       "      <td>41.91</td>\n",
       "      <td>-87.63</td>\n",
       "      <td>member</td>\n",
       "    </tr>\n",
       "  </tbody>\n",
       "</table>\n",
       "</div>"
      ],
      "text/plain": [
       "            ride_id  rideable_type           started_at             ended_at  \\\n",
       "0  8FE8F7D9C10E88C7  electric_bike  2023-04-02 08:37:28  2023-04-02 08:41:37   \n",
       "1  34E4ED3ADF1D821B  electric_bike  2023-04-19 11:29:02  2023-04-19 11:52:12   \n",
       "2  5296BF07A2F77CB5  electric_bike  2023-04-19 08:41:22  2023-04-19 08:43:22   \n",
       "3  40759916B76D5D52  electric_bike  2023-04-19 13:31:30  2023-04-19 13:35:09   \n",
       "4  77A96F460101AC63  electric_bike  2023-04-19 12:05:36  2023-04-19 12:10:26   \n",
       "\n",
       "  start_station_name start_station_id end_station_name end_station_id  \\\n",
       "0                NaN              NaN              NaN            NaN   \n",
       "1                NaN              NaN              NaN            NaN   \n",
       "2                NaN              NaN              NaN            NaN   \n",
       "3                NaN              NaN              NaN            NaN   \n",
       "4                NaN              NaN              NaN            NaN   \n",
       "\n",
       "   start_lat  start_lng  end_lat  end_lng member_casual  \n",
       "0      41.80     -87.60    41.79   -87.60        member  \n",
       "1      41.87     -87.65    41.93   -87.68        member  \n",
       "2      41.93     -87.66    41.93   -87.66        member  \n",
       "3      41.92     -87.65    41.91   -87.65        member  \n",
       "4      41.91     -87.65    41.91   -87.63        member  "
      ]
     },
     "execution_count": 3,
     "metadata": {},
     "output_type": "execute_result"
    }
   ],
   "source": [
    "df = pd.read_csv('202304-divvy-tripdata.csv')\n",
    "df.head()"
   ]
  },
  {
   "cell_type": "code",
   "execution_count": 4,
   "id": "2c1c2e44",
   "metadata": {},
   "outputs": [
    {
     "name": "stdout",
     "output_type": "stream",
     "text": [
      "<class 'pandas.core.frame.DataFrame'>\n",
      "RangeIndex: 426590 entries, 0 to 426589\n",
      "Data columns (total 13 columns):\n",
      " #   Column              Non-Null Count   Dtype  \n",
      "---  ------              --------------   -----  \n",
      " 0   ride_id             426590 non-null  object \n",
      " 1   rideable_type       426590 non-null  object \n",
      " 2   started_at          426590 non-null  object \n",
      " 3   ended_at            426590 non-null  object \n",
      " 4   start_station_name  362776 non-null  object \n",
      " 5   start_station_id    362776 non-null  object \n",
      " 6   end_station_name    357960 non-null  object \n",
      " 7   end_station_id      357960 non-null  object \n",
      " 8   start_lat           426590 non-null  float64\n",
      " 9   start_lng           426590 non-null  float64\n",
      " 10  end_lat             426155 non-null  float64\n",
      " 11  end_lng             426155 non-null  float64\n",
      " 12  member_casual       426590 non-null  object \n",
      "dtypes: float64(4), object(9)\n",
      "memory usage: 42.3+ MB\n"
     ]
    }
   ],
   "source": [
    "df.info()\n"
   ]
  },
  {
   "cell_type": "markdown",
   "id": "a8bde917",
   "metadata": {},
   "source": [
    "Confirmo los distintos tipos de bicicletas y la cantidad de cada una"
   ]
  },
  {
   "cell_type": "code",
   "execution_count": 7,
   "id": "98ba700a",
   "metadata": {},
   "outputs": [
    {
     "data": {
      "text/plain": [
       "electric_bike    0.581272\n",
       "classic_bike     0.397895\n",
       "docked_bike      0.020833\n",
       "Name: rideable_type, dtype: float64"
      ]
     },
     "execution_count": 7,
     "metadata": {},
     "output_type": "execute_result"
    }
   ],
   "source": [
    "df.rideable_type.value_counts(normalize=True)"
   ]
  },
  {
   "cell_type": "markdown",
   "id": "dd70bf7a",
   "metadata": {},
   "source": [
    "Tenemos un porcentaje pequeño de \"docked_bike\". No hay datos exactos de que signiifica este tipo, se puede interpretar como \"bicicletas reclinadas, triciclos manuales y bicicletas de carga\" mencionadas en la documentación del proyecto."
   ]
  },
  {
   "cell_type": "code",
   "execution_count": 8,
   "id": "644d640a",
   "metadata": {},
   "outputs": [
    {
     "data": {
      "text/plain": [
       "member    0.654739\n",
       "casual    0.345261\n",
       "Name: member_casual, dtype: float64"
      ]
     },
     "execution_count": 8,
     "metadata": {},
     "output_type": "execute_result"
    }
   ],
   "source": [
    "df.member_casual.value_counts(normalize=True)"
   ]
  },
  {
   "cell_type": "markdown",
   "id": "00456a66",
   "metadata": {},
   "source": [
    "Confirmo tambien que la columna destinada a el tipo de miembro no tenga errores."
   ]
  },
  {
   "cell_type": "code",
   "execution_count": 11,
   "id": "0a397097",
   "metadata": {},
   "outputs": [
    {
     "data": {
      "text/plain": [
       "ride_id                object\n",
       "rideable_type          object\n",
       "started_at             object\n",
       "ended_at               object\n",
       "start_station_name     object\n",
       "start_station_id       object\n",
       "end_station_name       object\n",
       "end_station_id         object\n",
       "start_lat             float64\n",
       "start_lng             float64\n",
       "end_lat               float64\n",
       "end_lng               float64\n",
       "member_casual          object\n",
       "dtype: object"
      ]
     },
     "execution_count": 11,
     "metadata": {},
     "output_type": "execute_result"
    }
   ],
   "source": [
    "df.dtypes"
   ]
  },
  {
   "cell_type": "code",
   "execution_count": 19,
   "id": "dec8e81f",
   "metadata": {},
   "outputs": [],
   "source": [
    "def calcular_distancia(lat1, lon1, lat2, lon2):\n",
    "    # Radio aproximado de la Tierra en kilómetros\n",
    "    radio_tierra = 6371.0\n",
    "\n",
    "    # Convertir las coordenadas de grados a radianes\n",
    "    lat1_rad = math.radians(lat1)\n",
    "    lon1_rad = math.radians(lon1)\n",
    "    lat2_rad = math.radians(lat2)\n",
    "    lon2_rad = math.radians(lon2)\n",
    "\n",
    "    # Diferencia de latitud y longitud\n",
    "    dlat = lat2_rad - lat1_rad\n",
    "    dlon = lon2_rad - lon1_rad\n",
    "\n",
    "    # Fórmula de Haversine\n",
    "    a = math.sin(dlat / 2)**2 + math.cos(lat1_rad) * math.cos(lat2_rad) * math.sin(dlon / 2)**2\n",
    "    c = 2 * math.atan2(math.sqrt(a), math.sqrt(1 - a))\n",
    "    distancia = radio_tierra * c\n",
    "\n",
    "    return distancia"
   ]
  },
  {
   "cell_type": "code",
   "execution_count": 20,
   "id": "a27b5996",
   "metadata": {},
   "outputs": [],
   "source": [
    "df['distance'] = df.apply(lambda row: calcular_distancia(row['start_lat'], row['start_lng'], row['end_lat'], row['end_lng']), axis = 1)"
   ]
  },
  {
   "cell_type": "code",
   "execution_count": 21,
   "id": "a1e9d497",
   "metadata": {},
   "outputs": [
    {
     "data": {
      "text/html": [
       "<div>\n",
       "<style scoped>\n",
       "    .dataframe tbody tr th:only-of-type {\n",
       "        vertical-align: middle;\n",
       "    }\n",
       "\n",
       "    .dataframe tbody tr th {\n",
       "        vertical-align: top;\n",
       "    }\n",
       "\n",
       "    .dataframe thead th {\n",
       "        text-align: right;\n",
       "    }\n",
       "</style>\n",
       "<table border=\"1\" class=\"dataframe\">\n",
       "  <thead>\n",
       "    <tr style=\"text-align: right;\">\n",
       "      <th></th>\n",
       "      <th>ride_id</th>\n",
       "      <th>rideable_type</th>\n",
       "      <th>started_at</th>\n",
       "      <th>ended_at</th>\n",
       "      <th>start_station_name</th>\n",
       "      <th>start_station_id</th>\n",
       "      <th>end_station_name</th>\n",
       "      <th>end_station_id</th>\n",
       "      <th>start_lat</th>\n",
       "      <th>start_lng</th>\n",
       "      <th>end_lat</th>\n",
       "      <th>end_lng</th>\n",
       "      <th>member_casual</th>\n",
       "      <th>distance</th>\n",
       "    </tr>\n",
       "  </thead>\n",
       "  <tbody>\n",
       "    <tr>\n",
       "      <th>0</th>\n",
       "      <td>8FE8F7D9C10E88C7</td>\n",
       "      <td>electric_bike</td>\n",
       "      <td>2023-04-02 08:37:28</td>\n",
       "      <td>2023-04-02 08:41:37</td>\n",
       "      <td>NaN</td>\n",
       "      <td>NaN</td>\n",
       "      <td>NaN</td>\n",
       "      <td>NaN</td>\n",
       "      <td>41.80</td>\n",
       "      <td>-87.60</td>\n",
       "      <td>41.79</td>\n",
       "      <td>-87.60</td>\n",
       "      <td>member</td>\n",
       "      <td>1.111949</td>\n",
       "    </tr>\n",
       "    <tr>\n",
       "      <th>1</th>\n",
       "      <td>34E4ED3ADF1D821B</td>\n",
       "      <td>electric_bike</td>\n",
       "      <td>2023-04-19 11:29:02</td>\n",
       "      <td>2023-04-19 11:52:12</td>\n",
       "      <td>NaN</td>\n",
       "      <td>NaN</td>\n",
       "      <td>NaN</td>\n",
       "      <td>NaN</td>\n",
       "      <td>41.87</td>\n",
       "      <td>-87.65</td>\n",
       "      <td>41.93</td>\n",
       "      <td>-87.68</td>\n",
       "      <td>member</td>\n",
       "      <td>7.118733</td>\n",
       "    </tr>\n",
       "    <tr>\n",
       "      <th>2</th>\n",
       "      <td>5296BF07A2F77CB5</td>\n",
       "      <td>electric_bike</td>\n",
       "      <td>2023-04-19 08:41:22</td>\n",
       "      <td>2023-04-19 08:43:22</td>\n",
       "      <td>NaN</td>\n",
       "      <td>NaN</td>\n",
       "      <td>NaN</td>\n",
       "      <td>NaN</td>\n",
       "      <td>41.93</td>\n",
       "      <td>-87.66</td>\n",
       "      <td>41.93</td>\n",
       "      <td>-87.66</td>\n",
       "      <td>member</td>\n",
       "      <td>0.000000</td>\n",
       "    </tr>\n",
       "    <tr>\n",
       "      <th>3</th>\n",
       "      <td>40759916B76D5D52</td>\n",
       "      <td>electric_bike</td>\n",
       "      <td>2023-04-19 13:31:30</td>\n",
       "      <td>2023-04-19 13:35:09</td>\n",
       "      <td>NaN</td>\n",
       "      <td>NaN</td>\n",
       "      <td>NaN</td>\n",
       "      <td>NaN</td>\n",
       "      <td>41.92</td>\n",
       "      <td>-87.65</td>\n",
       "      <td>41.91</td>\n",
       "      <td>-87.65</td>\n",
       "      <td>member</td>\n",
       "      <td>1.111949</td>\n",
       "    </tr>\n",
       "    <tr>\n",
       "      <th>4</th>\n",
       "      <td>77A96F460101AC63</td>\n",
       "      <td>electric_bike</td>\n",
       "      <td>2023-04-19 12:05:36</td>\n",
       "      <td>2023-04-19 12:10:26</td>\n",
       "      <td>NaN</td>\n",
       "      <td>NaN</td>\n",
       "      <td>NaN</td>\n",
       "      <td>NaN</td>\n",
       "      <td>41.91</td>\n",
       "      <td>-87.65</td>\n",
       "      <td>41.91</td>\n",
       "      <td>-87.63</td>\n",
       "      <td>member</td>\n",
       "      <td>1.655014</td>\n",
       "    </tr>\n",
       "  </tbody>\n",
       "</table>\n",
       "</div>"
      ],
      "text/plain": [
       "            ride_id  rideable_type           started_at             ended_at  \\\n",
       "0  8FE8F7D9C10E88C7  electric_bike  2023-04-02 08:37:28  2023-04-02 08:41:37   \n",
       "1  34E4ED3ADF1D821B  electric_bike  2023-04-19 11:29:02  2023-04-19 11:52:12   \n",
       "2  5296BF07A2F77CB5  electric_bike  2023-04-19 08:41:22  2023-04-19 08:43:22   \n",
       "3  40759916B76D5D52  electric_bike  2023-04-19 13:31:30  2023-04-19 13:35:09   \n",
       "4  77A96F460101AC63  electric_bike  2023-04-19 12:05:36  2023-04-19 12:10:26   \n",
       "\n",
       "  start_station_name start_station_id end_station_name end_station_id  \\\n",
       "0                NaN              NaN              NaN            NaN   \n",
       "1                NaN              NaN              NaN            NaN   \n",
       "2                NaN              NaN              NaN            NaN   \n",
       "3                NaN              NaN              NaN            NaN   \n",
       "4                NaN              NaN              NaN            NaN   \n",
       "\n",
       "   start_lat  start_lng  end_lat  end_lng member_casual  distance  \n",
       "0      41.80     -87.60    41.79   -87.60        member  1.111949  \n",
       "1      41.87     -87.65    41.93   -87.68        member  7.118733  \n",
       "2      41.93     -87.66    41.93   -87.66        member  0.000000  \n",
       "3      41.92     -87.65    41.91   -87.65        member  1.111949  \n",
       "4      41.91     -87.65    41.91   -87.63        member  1.655014  "
      ]
     },
     "execution_count": 21,
     "metadata": {},
     "output_type": "execute_result"
    }
   ],
   "source": [
    "df.head()"
   ]
  },
  {
   "cell_type": "code",
   "execution_count": 31,
   "id": "be5d9e58",
   "metadata": {},
   "outputs": [
    {
     "data": {
      "text/plain": [
       "rideable_type\n",
       "classic_bike     1.934538\n",
       "docked_bike      2.129310\n",
       "electric_bike    2.098000\n",
       "Name: distance, dtype: float64"
      ]
     },
     "execution_count": 31,
     "metadata": {},
     "output_type": "execute_result"
    }
   ],
   "source": [
    "df.groupby('rideable_type')['distance'].mean()"
   ]
  },
  {
   "cell_type": "markdown",
   "id": "9b603d63",
   "metadata": {},
   "source": [
    "En el promedio de distancia según tipo de vehiculo vemos que la que mas distancia tiene es la docked, la que menos cantidad de vehiculos tiene. La diferencia no es significativa, pero aun asi es llamativa por la diferencia que hay con la cantidad de este vehiculo en comparación con los otros."
   ]
  },
  {
   "cell_type": "code",
   "execution_count": 32,
   "id": "72a55074",
   "metadata": {},
   "outputs": [
    {
     "data": {
      "text/plain": [
       "member_casual\n",
       "casual    2.037176\n",
       "member    2.031733\n",
       "Name: distance, dtype: float64"
      ]
     },
     "execution_count": 32,
     "metadata": {},
     "output_type": "execute_result"
    }
   ],
   "source": [
    "df.groupby('member_casual')['distance'].mean()"
   ]
  },
  {
   "cell_type": "code",
   "execution_count": 33,
   "id": "66a1696f",
   "metadata": {},
   "outputs": [],
   "source": [
    "df.to_csv('cyclistic.csv')"
   ]
  },
  {
   "cell_type": "code",
   "execution_count": 34,
   "id": "3e67d0eb",
   "metadata": {},
   "outputs": [
    {
     "data": {
      "text/plain": [
       "start_station_id\n",
       "021320           121\n",
       "1011               7\n",
       "1018               2\n",
       "1027               2\n",
       "1031               1\n",
       "                ... \n",
       "chargingstx07    194\n",
       "chargingstx1     921\n",
       "chargingstx3      64\n",
       "chargingstx4     666\n",
       "chargingstx5     113\n",
       "Name: ride_id, Length: 1032, dtype: int64"
      ]
     },
     "execution_count": 34,
     "metadata": {},
     "output_type": "execute_result"
    }
   ],
   "source": [
    "df.groupby('start_station_id')['ride_id'].count()"
   ]
  },
  {
   "cell_type": "code",
   "execution_count": null,
   "id": "8b56f8d1",
   "metadata": {},
   "outputs": [],
   "source": []
  }
 ],
 "metadata": {
  "kernelspec": {
   "display_name": "Python 3 (ipykernel)",
   "language": "python",
   "name": "python3"
  },
  "language_info": {
   "codemirror_mode": {
    "name": "ipython",
    "version": 3
   },
   "file_extension": ".py",
   "mimetype": "text/x-python",
   "name": "python",
   "nbconvert_exporter": "python",
   "pygments_lexer": "ipython3",
   "version": "3.9.13"
  }
 },
 "nbformat": 4,
 "nbformat_minor": 5
}
